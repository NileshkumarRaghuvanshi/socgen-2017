{
 "cells": [
  {
   "cell_type": "code",
   "execution_count": 33,
   "metadata": {},
   "outputs": [],
   "source": [
    "import pandas as pd\n",
    "import numpy as np\n",
    "from sklearn.preprocessing import LabelEncoder\n",
    "\n",
    "train = pd.read_csv('../input/train.csv')\n",
    "test = pd.read_csv('../input/test.csv')\n",
    "\n",
    "sub_ids = test['portfolio_id']\n",
    "test = test.drop('portfolio_id', axis=1)\n",
    "y = train['return']\n",
    "train = train.drop(['portfolio_id', 'return'], axis=1)\n",
    "\n",
    "# remove some  fields\n",
    "train = train.drop(['start_date', 'creation_date', 'sell_date', 'indicator_code', 'status', 'desk_id'], axis=1)\n",
    "test = test.drop(['start_date', 'creation_date', 'sell_date', 'indicator_code', 'status', 'desk_id'], axis=1)\n",
    "\n",
    "# handle missing values \n",
    "train['hedge_value'].fillna(False, inplace=True)\n",
    "test['hedge_value'].fillna(False, inplace=True)\n",
    "# missing values for numeric fields\n",
    "train['sold'].fillna(train['sold'].median(), inplace=True)\n",
    "train['bought'].fillna(train['bought'].median(), inplace=True)\n",
    "train['libor_rate'].fillna(train['libor_rate'].median(), inplace=True)\n",
    "test['libor_rate'].fillna(train['libor_rate'].median(), inplace=True)\n",
    "\n",
    "# encode categorical fields\n",
    "obj_cols = [x for x in train.columns if train[x].dtype == 'object']\n",
    "encoder = LabelEncoder()\n",
    "for x in obj_cols:\n",
    "    encoder.fit(train[x])\n",
    "    train[x] = encoder.transform(train[x])\n",
    "    test[x] = encoder.transform(test[x])"
   ]
  },
  {
   "cell_type": "code",
   "execution_count": 34,
   "metadata": {},
   "outputs": [
    {
     "name": "stdout",
     "output_type": "stream",
     "text": [
      "[-0.99699912  0.97393782  0.89965033  0.38801503  0.81863494]\n",
      "mean r2: 0.416647798489\n"
     ]
    }
   ],
   "source": [
    "from sklearn.model_selection import cross_val_score\n",
    "from sklearn.ensemble import RandomForestRegressor\n",
    "\n",
    "forest_reg = RandomForestRegressor(random_state=7)\n",
    "scores = cross_val_score(forest_reg, train, y, scoring='r2', cv=5)\n",
    "print(scores)\n",
    "print('mean r2:',np.mean(scores))"
   ]
  },
  {
   "cell_type": "code",
   "execution_count": 35,
   "metadata": {},
   "outputs": [
    {
     "data": {
      "text/plain": [
       "0.41664779848853933"
      ]
     },
     "execution_count": 35,
     "metadata": {},
     "output_type": "execute_result"
    }
   ],
   "source": [
    "np.mean(scores)"
   ]
  },
  {
   "cell_type": "code",
   "execution_count": 36,
   "metadata": {},
   "outputs": [
    {
     "data": {
      "text/html": [
       "<a href='sub_returns.csv' target='_blank'>sub_returns.csv</a><br>"
      ],
      "text/plain": [
       "/home/shinto/hackerearth/socgen/annual_returns/source/sub_returns.csv"
      ]
     },
     "execution_count": 36,
     "metadata": {},
     "output_type": "execute_result"
    }
   ],
   "source": [
    "from IPython.display import FileLink\n",
    "\n",
    "forest_reg = RandomForestRegressor(random_state=7)\n",
    "forest_reg.fit(train, y)\n",
    "preds = forest_reg.predict(test)\n",
    "sub = pd.DataFrame({'portfolio_id': sub_ids, 'return': preds})\n",
    "filename = 'sub_returns.csv'\n",
    "sub.to_csv(filename, index=False)\n",
    "FileLink(filename)  # lb 0.94277"
   ]
  },
  {
   "cell_type": "code",
   "execution_count": null,
   "metadata": {},
   "outputs": [],
   "source": []
  }
 ],
 "metadata": {
  "kernelspec": {
   "display_name": "Python 3",
   "language": "python",
   "name": "python3"
  },
  "language_info": {
   "codemirror_mode": {
    "name": "ipython",
    "version": 3
   },
   "file_extension": ".py",
   "mimetype": "text/x-python",
   "name": "python",
   "nbconvert_exporter": "python",
   "pygments_lexer": "ipython3",
   "version": "3.6.1"
  },
  "toc": {
   "nav_menu": {},
   "number_sections": true,
   "sideBar": true,
   "skip_h1_title": false,
   "toc_cell": false,
   "toc_position": {},
   "toc_section_display": "block",
   "toc_window_display": false
  }
 },
 "nbformat": 4,
 "nbformat_minor": 2
}
